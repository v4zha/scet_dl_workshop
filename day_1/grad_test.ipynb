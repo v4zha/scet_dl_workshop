{
 "cells": [
  {
   "cell_type": "code",
   "execution_count": 1,
   "metadata": {},
   "outputs": [
    {
     "name": "stdout",
     "output_type": "stream",
     "text": [
      "Obtaining file:///D:/scet-dl-workshop/day_1/scet_grad\n",
      "  Preparing metadata (setup.py): started\n",
      "  Preparing metadata (setup.py): finished with status 'done'\n",
      "Requirement already satisfied: numpy in c:\\users\\user\\anaconda3\\envs\\scet-workshop\\lib\\site-packages (from scet-grad==0.1) (1.26.3)\n",
      "Requirement already satisfied: graphviz in c:\\users\\user\\anaconda3\\envs\\scet-workshop\\lib\\site-packages (from scet-grad==0.1) (0.20.1)\n",
      "Installing collected packages: scet-grad\n",
      "  Attempting uninstall: scet-grad\n",
      "    Found existing installation: scet-grad 0.1\n",
      "    Uninstalling scet-grad-0.1:\n",
      "      Successfully uninstalled scet-grad-0.1\n",
      "  Running setup.py develop for scet-grad\n",
      "Successfully installed scet-grad-0.1\n",
      "Note: you may need to restart the kernel to use updated packages.\n"
     ]
    }
   ],
   "source": [
    "%pip install -e scet_grad"
   ]
  },
  {
   "cell_type": "code",
   "execution_count": 2,
   "metadata": {},
   "outputs": [],
   "source": [
    "from scet_grad import Value"
   ]
  },
  {
   "cell_type": "code",
   "execution_count": 3,
   "metadata": {},
   "outputs": [
    {
     "name": "stdout",
     "output_type": "stream",
     "text": [
      "Requirement already satisfied: matplotlib in c:\\users\\user\\anaconda3\\envs\\scet-workshop\\lib\\site-packages (3.8.0)\n",
      "Requirement already satisfied: contourpy>=1.0.1 in c:\\users\\user\\anaconda3\\envs\\scet-workshop\\lib\\site-packages (from matplotlib) (1.2.0)\n",
      "Requirement already satisfied: cycler>=0.10 in c:\\users\\user\\anaconda3\\envs\\scet-workshop\\lib\\site-packages (from matplotlib) (0.11.0)\n",
      "Requirement already satisfied: fonttools>=4.22.0 in c:\\users\\user\\anaconda3\\envs\\scet-workshop\\lib\\site-packages (from matplotlib) (4.25.0)\n",
      "Requirement already satisfied: kiwisolver>=1.0.1 in c:\\users\\user\\anaconda3\\envs\\scet-workshop\\lib\\site-packages (from matplotlib) (1.4.4)\n",
      "Requirement already satisfied: numpy<2,>=1.21 in c:\\users\\user\\anaconda3\\envs\\scet-workshop\\lib\\site-packages (from matplotlib) (1.26.3)\n",
      "Requirement already satisfied: packaging>=20.0 in c:\\users\\user\\anaconda3\\envs\\scet-workshop\\lib\\site-packages (from matplotlib) (23.1)\n",
      "Requirement already satisfied: pillow>=6.2.0 in c:\\users\\user\\anaconda3\\envs\\scet-workshop\\lib\\site-packages (from matplotlib) (10.2.0)\n",
      "Requirement already satisfied: pyparsing>=2.3.1 in c:\\users\\user\\anaconda3\\envs\\scet-workshop\\lib\\site-packages (from matplotlib) (3.0.9)\n",
      "Requirement already satisfied: python-dateutil>=2.7 in c:\\users\\user\\anaconda3\\envs\\scet-workshop\\lib\\site-packages (from matplotlib) (2.8.2)\n",
      "Requirement already satisfied: six>=1.5 in c:\\users\\user\\anaconda3\\envs\\scet-workshop\\lib\\site-packages (from python-dateutil>=2.7->matplotlib) (1.16.0)\n",
      "Note: you may need to restart the kernel to use updated packages.\n",
      "Requirement already satisfied: graphviz in c:\\users\\user\\anaconda3\\envs\\scet-workshop\\lib\\site-packages (0.20.1)\n",
      "Note: you may need to restart the kernel to use updated packages.\n"
     ]
    }
   ],
   "source": [
    "%pip install matplotlib\n",
    "%pip install graphviz\n",
    "import numpy as np\n",
    "import matplotlib.pyplot as plt\n",
    "%matplotlib inline"
   ]
  },
  {
   "cell_type": "code",
   "execution_count": 4,
   "metadata": {},
   "outputs": [],
   "source": [
    "def f(x:float)->float:\n",
    "    return 3*x**2 - 4*x + 5"
   ]
  },
  {
   "cell_type": "code",
   "execution_count": 5,
   "metadata": {},
   "outputs": [
    {
     "data": {
      "text/plain": [
       "[<matplotlib.lines.Line2D at 0x16ed9e94e90>]"
      ]
     },
     "execution_count": 5,
     "metadata": {},
     "output_type": "execute_result"
    },
    {
     "data": {
      "image/png": "[encoded data removed]",
      "text/plain": [
       "<Figure size 640x480 with 1 Axes>"
      ]
     },
     "metadata": {},
     "output_type": "display_data"
    }
   ],
   "source": [
    "xs = np.arange(-5, 5, 0.25)\n",
    "ys = f(xs)\n",
    "plt.plot(xs, ys)"
   ]
  },
  {
   "cell_type": "code",
   "execution_count": 6,
   "metadata": {},
   "outputs": [],
   "source": [
    "h=1e-5\n",
    "der=lambda x:f(x+h)-f(x)/h"
   ]
  },
  {
   "cell_type": "code",
   "execution_count": 7,
   "metadata": {},
   "outputs": [
    {
     "data": {
      "text/plain": [
       "<module 'scet_grad' from 'd:\\\\scet-dl-workshop\\\\day_1\\\\scet_grad\\\\scet_grad\\\\__init__.py'>"
      ]
     },
     "execution_count": 7,
     "metadata": {},
     "output_type": "execute_result"
    }
   ],
   "source": [
    "import scet_grad\n",
    "import importlib as imp\n",
    "imp.reload(scet_grad)"
   ]
  },
  {
   "cell_type": "code",
   "execution_count": 8,
   "metadata": {},
   "outputs": [],
   "source": [
    "x = Value(5, \"x\")\n",
    "y = Value(6, \"y\")\n",
    "z = x+y\n",
    "z.label = \"z\""
   ]
  },
  {
   "cell_type": "code",
   "execution_count": 9,
   "metadata": {},
   "outputs": [
    {
     "data": {
      "image/svg+xml": [
       "<?xml version=\"1.0\" encoding=\"UTF-8\" standalone=\"no\"?>\n",
       "<!DOCTYPE svg PUBLIC \"-//W3C//DTD SVG 1.1//EN\"\n",
       " \"http://www.w3.org/Graphics/SVG/1.1/DTD/svg11.dtd\">\n",
       "<!-- Generated by graphviz version 2.50.0 (0)\n",
       " -->\n",
       "<!-- Pages: 1 -->\n",
       "<svg width=\"458pt\" height=\"98pt\"\n",
       " viewBox=\"0.00 0.00 458.00 98.00\" xmlns=\"http://www.w3.org/2000/svg\" xmlns:xlink=\"http://www.w3.org/1999/xlink\">\n",
       "<g id=\"graph0\" class=\"graph\" transform=\"scale(1 1) rotate(0) translate(4 94)\">\n",
       "<polygon fill=\"white\" stroke=\"transparent\" points=\"-4,4 -4,-94 454,-94 454,4 -4,4\"/>\n",
       "<!-- 1575614351376 -->\n",
       "<g id=\"node1\" class=\"node\">\n",
       "<title>1575614351376</title>\n",
       "<polygon fill=\"none\" stroke=\"black\" points=\"168,-90 0,-90 0,-54 168,-54 168,-90\"/>\n",
       "<text text-anchor=\"middle\" x=\"84\" y=\"-68.3\" font-family=\"Times New Roman,serif\" font-size=\"14.00\">x | value : 5.00 | grad : 0.00</text>\n",
       "</g>\n",
       "<!-- 1575614284112+ -->\n",
       "<g id=\"node3\" class=\"node\">\n",
       "<title>1575614284112+</title>\n",
       "<ellipse fill=\"none\" stroke=\"red\" cx=\"222\" cy=\"-45\" rx=\"18\" ry=\"18\"/>\n",
       "<text text-anchor=\"middle\" x=\"222\" y=\"-41.3\" font-family=\"Times New Roman,serif\" font-size=\"14.00\">+</text>\n",
       "</g>\n",
       "<!-- 1575614351376&#45;&gt;1575614284112+ -->\n",
       "<g id=\"edge3\" class=\"edge\">\n",
       "<title>1575614351376&#45;&gt;1575614284112+</title>\n",
       "<path fill=\"none\" stroke=\"black\" d=\"M168.03,-55.52C177.46,-53.64 186.48,-51.85 194.32,-50.3\"/>\n",
       "<polygon fill=\"black\" stroke=\"black\" points=\"195.09,-53.71 204.21,-48.33 193.72,-46.85 195.09,-53.71\"/>\n",
       "</g>\n",
       "<!-- 1575614284112 -->\n",
       "<g id=\"node2\" class=\"node\">\n",
       "<title>1575614284112</title>\n",
       "<polygon fill=\"none\" stroke=\"black\" points=\"450,-63 276,-63 276,-27 450,-27 450,-63\"/>\n",
       "<text text-anchor=\"middle\" x=\"363\" y=\"-41.3\" font-family=\"Times New Roman,serif\" font-size=\"14.00\">z | value : 11.00 | grad : 0.00</text>\n",
       "</g>\n",
       "<!-- 1575614284112+&#45;&gt;1575614284112 -->\n",
       "<g id=\"edge1\" class=\"edge\">\n",
       "<title>1575614284112+&#45;&gt;1575614284112</title>\n",
       "<path fill=\"none\" stroke=\"black\" d=\"M240.04,-45C247.22,-45 256.18,-45 265.97,-45\"/>\n",
       "<polygon fill=\"black\" stroke=\"black\" points=\"266,-48.5 276,-45 266,-41.5 266,-48.5\"/>\n",
       "</g>\n",
       "<!-- 1575613428240 -->\n",
       "<g id=\"node4\" class=\"node\">\n",
       "<title>1575613428240</title>\n",
       "<polygon fill=\"none\" stroke=\"black\" points=\"168,-36 0,-36 0,0 168,0 168,-36\"/>\n",
       "<text text-anchor=\"middle\" x=\"84\" y=\"-14.3\" font-family=\"Times New Roman,serif\" font-size=\"14.00\">y | value : 6.00 | grad : 0.00</text>\n",
       "</g>\n",
       "<!-- 1575613428240&#45;&gt;1575614284112+ -->\n",
       "<g id=\"edge2\" class=\"edge\">\n",
       "<title>1575613428240&#45;&gt;1575614284112+</title>\n",
       "<path fill=\"none\" stroke=\"black\" d=\"M168.03,-34.48C177.46,-36.36 186.48,-38.15 194.32,-39.7\"/>\n",
       "<polygon fill=\"black\" stroke=\"black\" points=\"193.72,-43.15 204.21,-41.67 195.09,-36.29 193.72,-43.15\"/>\n",
       "</g>\n",
       "</g>\n",
       "</svg>\n"
      ],
      "text/plain": [
       "<graphviz.graphs.Digraph at 0x16ed9ef1890>"
      ]
     },
     "execution_count": 9,
     "metadata": {},
     "output_type": "execute_result"
    }
   ],
   "source": [
    "z.digraph()"
   ]
  },
  {
   "cell_type": "code",
   "execution_count": 10,
   "metadata": {},
   "outputs": [
    {
     "data": {
      "image/svg+xml": [
       "<?xml version=\"1.0\" encoding=\"UTF-8\" standalone=\"no\"?>\n",
       "<!DOCTYPE svg PUBLIC \"-//W3C//DTD SVG 1.1//EN\"\n",
       " \"http://www.w3.org/Graphics/SVG/1.1/DTD/svg11.dtd\">\n",
       "<!-- Generated by graphviz version 2.50.0 (0)\n",
       " -->\n",
       "<!-- Pages: 1 -->\n",
       "<svg width=\"458pt\" height=\"98pt\"\n",
       " viewBox=\"0.00 0.00 458.00 98.00\" xmlns=\"http://www.w3.org/2000/svg\" xmlns:xlink=\"http://www.w3.org/1999/xlink\">\n",
       "<g id=\"graph0\" class=\"graph\" transform=\"scale(1 1) rotate(0) translate(4 94)\">\n",
       "<polygon fill=\"white\" stroke=\"transparent\" points=\"-4,4 -4,-94 454,-94 454,4 -4,4\"/>\n",
       "<!-- 1575614351376 -->\n",
       "<g id=\"node1\" class=\"node\">\n",
       "<title>1575614351376</title>\n",
       "<polygon fill=\"none\" stroke=\"black\" points=\"168,-90 0,-90 0,-54 168,-54 168,-90\"/>\n",
       "<text text-anchor=\"middle\" x=\"84\" y=\"-68.3\" font-family=\"Times New Roman,serif\" font-size=\"14.00\">x | value : 5.00 | grad : 1.00</text>\n",
       "</g>\n",
       "<!-- 1575614284112+ -->\n",
       "<g id=\"node3\" class=\"node\">\n",
       "<title>1575614284112+</title>\n",
       "<ellipse fill=\"none\" stroke=\"red\" cx=\"222\" cy=\"-45\" rx=\"18\" ry=\"18\"/>\n",
       "<text text-anchor=\"middle\" x=\"222\" y=\"-41.3\" font-family=\"Times New Roman,serif\" font-size=\"14.00\">+</text>\n",
       "</g>\n",
       "<!-- 1575614351376&#45;&gt;1575614284112+ -->\n",
       "<g id=\"edge3\" class=\"edge\">\n",
       "<title>1575614351376&#45;&gt;1575614284112+</title>\n",
       "<path fill=\"none\" stroke=\"black\" d=\"M168.03,-55.52C177.46,-53.64 186.48,-51.85 194.32,-50.3\"/>\n",
       "<polygon fill=\"black\" stroke=\"black\" points=\"195.09,-53.71 204.21,-48.33 193.72,-46.85 195.09,-53.71\"/>\n",
       "</g>\n",
       "<!-- 1575614284112 -->\n",
       "<g id=\"node2\" class=\"node\">\n",
       "<title>1575614284112</title>\n",
       "<polygon fill=\"none\" stroke=\"black\" points=\"450,-63 276,-63 276,-27 450,-27 450,-63\"/>\n",
       "<text text-anchor=\"middle\" x=\"363\" y=\"-41.3\" font-family=\"Times New Roman,serif\" font-size=\"14.00\">z | value : 11.00 | grad : 1.00</text>\n",
       "</g>\n",
       "<!-- 1575614284112+&#45;&gt;1575614284112 -->\n",
       "<g id=\"edge1\" class=\"edge\">\n",
       "<title>1575614284112+&#45;&gt;1575614284112</title>\n",
       "<path fill=\"none\" stroke=\"black\" d=\"M240.04,-45C247.22,-45 256.18,-45 265.97,-45\"/>\n",
       "<polygon fill=\"black\" stroke=\"black\" points=\"266,-48.5 276,-45 266,-41.5 266,-48.5\"/>\n",
       "</g>\n",
       "<!-- 1575613428240 -->\n",
       "<g id=\"node4\" class=\"node\">\n",
       "<title>1575613428240</title>\n",
       "<polygon fill=\"none\" stroke=\"black\" points=\"168,-36 0,-36 0,0 168,0 168,-36\"/>\n",
       "<text text-anchor=\"middle\" x=\"84\" y=\"-14.3\" font-family=\"Times New Roman,serif\" font-size=\"14.00\">y | value : 6.00 | grad : 1.00</text>\n",
       "</g>\n",
       "<!-- 1575613428240&#45;&gt;1575614284112+ -->\n",
       "<g id=\"edge2\" class=\"edge\">\n",
       "<title>1575613428240&#45;&gt;1575614284112+</title>\n",
       "<path fill=\"none\" stroke=\"black\" d=\"M168.03,-34.48C177.46,-36.36 186.48,-38.15 194.32,-39.7\"/>\n",
       "<polygon fill=\"black\" stroke=\"black\" points=\"193.72,-43.15 204.21,-41.67 195.09,-36.29 193.72,-43.15\"/>\n",
       "</g>\n",
       "</g>\n",
       "</svg>\n"
      ],
      "text/plain": [
       "<graphviz.graphs.Digraph at 0x16ed9ef10d0>"
      ]
     },
     "execution_count": 10,
     "metadata": {},
     "output_type": "execute_result"
    }
   ],
   "source": [
    "z.backward()\n",
    "z.digraph()"
   ]
  },
  {
   "cell_type": "code",
   "execution_count": 11,
   "metadata": {},
   "outputs": [
    {
     "data": {
      "image/svg+xml": [
       "<?xml version=\"1.0\" encoding=\"UTF-8\" standalone=\"no\"?>\n",
       "<!DOCTYPE svg PUBLIC \"-//W3C//DTD SVG 1.1//EN\"\n",
       " \"http://www.w3.org/Graphics/SVG/1.1/DTD/svg11.dtd\">\n",
       "<!-- Generated by graphviz version 2.50.0 (0)\n",
       " -->\n",
       "<!-- Pages: 1 -->\n",
       "<svg width=\"740pt\" height=\"125pt\"\n",
       " viewBox=\"0.00 0.00 740.00 125.00\" xmlns=\"http://www.w3.org/2000/svg\" xmlns:xlink=\"http://www.w3.org/1999/xlink\">\n",
       "<g id=\"graph0\" class=\"graph\" transform=\"scale(1 1) rotate(0) translate(4 121)\">\n",
       "<polygon fill=\"white\" stroke=\"transparent\" points=\"-4,4 -4,-121 736,-121 736,4 -4,4\"/>\n",
       "<!-- 1575613428240 -->\n",
       "<g id=\"node1\" class=\"node\">\n",
       "<title>1575613428240</title>\n",
       "<polygon fill=\"none\" stroke=\"black\" points=\"168,-117 0,-117 0,-81 168,-81 168,-117\"/>\n",
       "<text text-anchor=\"middle\" x=\"84\" y=\"-95.3\" font-family=\"Times New Roman,serif\" font-size=\"14.00\">y | value : 6.00 | grad : 1.00</text>\n",
       "</g>\n",
       "<!-- 1575614284112+ -->\n",
       "<g id=\"node7\" class=\"node\">\n",
       "<title>1575614284112+</title>\n",
       "<ellipse fill=\"none\" stroke=\"red\" cx=\"222\" cy=\"-72\" rx=\"18\" ry=\"18\"/>\n",
       "<text text-anchor=\"middle\" x=\"222\" y=\"-68.3\" font-family=\"Times New Roman,serif\" font-size=\"14.00\">+</text>\n",
       "</g>\n",
       "<!-- 1575613428240&#45;&gt;1575614284112+ -->\n",
       "<g id=\"edge3\" class=\"edge\">\n",
       "<title>1575613428240&#45;&gt;1575614284112+</title>\n",
       "<path fill=\"none\" stroke=\"black\" d=\"M168.03,-82.52C177.46,-80.64 186.48,-78.85 194.32,-77.3\"/>\n",
       "<polygon fill=\"black\" stroke=\"black\" points=\"195.09,-80.71 204.21,-75.33 193.72,-73.85 195.09,-80.71\"/>\n",
       "</g>\n",
       "<!-- 1575614559248 -->\n",
       "<g id=\"node2\" class=\"node\">\n",
       "<title>1575614559248</title>\n",
       "<polygon fill=\"none\" stroke=\"black\" points=\"732,-63 558,-63 558,-27 732,-27 732,-63\"/>\n",
       "<text text-anchor=\"middle\" x=\"645\" y=\"-41.3\" font-family=\"Times New Roman,serif\" font-size=\"14.00\">a | value : 22.00 | grad : 0.00</text>\n",
       "</g>\n",
       "<!-- 1575614559248* -->\n",
       "<g id=\"node3\" class=\"node\">\n",
       "<title>1575614559248*</title>\n",
       "<ellipse fill=\"none\" stroke=\"red\" cx=\"504\" cy=\"-45\" rx=\"18\" ry=\"18\"/>\n",
       "<text text-anchor=\"middle\" x=\"504\" y=\"-41.3\" font-family=\"Times New Roman,serif\" font-size=\"14.00\">*</text>\n",
       "</g>\n",
       "<!-- 1575614559248*&#45;&gt;1575614559248 -->\n",
       "<g id=\"edge1\" class=\"edge\">\n",
       "<title>1575614559248*&#45;&gt;1575614559248</title>\n",
       "<path fill=\"none\" stroke=\"black\" d=\"M522.04,-45C529.22,-45 538.18,-45 547.97,-45\"/>\n",
       "<polygon fill=\"black\" stroke=\"black\" points=\"548,-48.5 558,-45 548,-41.5 548,-48.5\"/>\n",
       "</g>\n",
       "<!-- 1575614351376 -->\n",
       "<g id=\"node4\" class=\"node\">\n",
       "<title>1575614351376</title>\n",
       "<polygon fill=\"none\" stroke=\"black\" points=\"168,-63 0,-63 0,-27 168,-27 168,-63\"/>\n",
       "<text text-anchor=\"middle\" x=\"84\" y=\"-41.3\" font-family=\"Times New Roman,serif\" font-size=\"14.00\">x | value : 5.00 | grad : 1.00</text>\n",
       "</g>\n",
       "<!-- 1575614351376&#45;&gt;1575614284112+ -->\n",
       "<g id=\"edge4\" class=\"edge\">\n",
       "<title>1575614351376&#45;&gt;1575614284112+</title>\n",
       "<path fill=\"none\" stroke=\"black\" d=\"M168.03,-61.48C177.46,-63.36 186.48,-65.15 194.32,-66.7\"/>\n",
       "<polygon fill=\"black\" stroke=\"black\" points=\"193.72,-70.15 204.21,-68.67 195.09,-63.29 193.72,-70.15\"/>\n",
       "</g>\n",
       "<!-- 1575614197328 -->\n",
       "<g id=\"node5\" class=\"node\">\n",
       "<title>1575614197328</title>\n",
       "<polygon fill=\"none\" stroke=\"black\" points=\"443.5,-36 282.5,-36 282.5,0 443.5,0 443.5,-36\"/>\n",
       "<text text-anchor=\"middle\" x=\"363\" y=\"-14.3\" font-family=\"Times New Roman,serif\" font-size=\"14.00\"> | value : 2.00 | grad : 0.00</text>\n",
       "</g>\n",
       "<!-- 1575614197328&#45;&gt;1575614559248* -->\n",
       "<g id=\"edge6\" class=\"edge\">\n",
       "<title>1575614197328&#45;&gt;1575614559248*</title>\n",
       "<path fill=\"none\" stroke=\"black\" d=\"M443.65,-33.47C455.28,-35.73 466.53,-37.92 476.05,-39.76\"/>\n",
       "<polygon fill=\"black\" stroke=\"black\" points=\"475.5,-43.22 485.99,-41.7 476.84,-36.35 475.5,-43.22\"/>\n",
       "</g>\n",
       "<!-- 1575614284112 -->\n",
       "<g id=\"node6\" class=\"node\">\n",
       "<title>1575614284112</title>\n",
       "<polygon fill=\"none\" stroke=\"black\" points=\"450,-90 276,-90 276,-54 450,-54 450,-90\"/>\n",
       "<text text-anchor=\"middle\" x=\"363\" y=\"-68.3\" font-family=\"Times New Roman,serif\" font-size=\"14.00\">z | value : 11.00 | grad : 1.00</text>\n",
       "</g>\n",
       "<!-- 1575614284112&#45;&gt;1575614559248* -->\n",
       "<g id=\"edge5\" class=\"edge\">\n",
       "<title>1575614284112&#45;&gt;1575614559248*</title>\n",
       "<path fill=\"none\" stroke=\"black\" d=\"M450.05,-55.28C459.52,-53.45 468.56,-51.69 476.4,-50.17\"/>\n",
       "<polygon fill=\"black\" stroke=\"black\" points=\"477.12,-53.59 486.27,-48.25 475.79,-46.72 477.12,-53.59\"/>\n",
       "</g>\n",
       "<!-- 1575614284112+&#45;&gt;1575614284112 -->\n",
       "<g id=\"edge2\" class=\"edge\">\n",
       "<title>1575614284112+&#45;&gt;1575614284112</title>\n",
       "<path fill=\"none\" stroke=\"black\" d=\"M240.04,-72C247.22,-72 256.18,-72 265.97,-72\"/>\n",
       "<polygon fill=\"black\" stroke=\"black\" points=\"266,-75.5 276,-72 266,-68.5 266,-75.5\"/>\n",
       "</g>\n",
       "</g>\n",
       "</svg>\n"
      ],
      "text/plain": [
       "<graphviz.graphs.Digraph at 0x16ed9f22bd0>"
      ]
     },
     "execution_count": 11,
     "metadata": {},
     "output_type": "execute_result"
    }
   ],
   "source": [
    "a=z*2;a.label=\"a\"\n",
    "a.digraph()"
   ]
  },
  {
   "cell_type": "code",
   "execution_count": 12,
   "metadata": {},
   "outputs": [
    {
     "data": {
      "image/svg+xml": [
       "<?xml version=\"1.0\" encoding=\"UTF-8\" standalone=\"no\"?>\n",
       "<!DOCTYPE svg PUBLIC \"-//W3C//DTD SVG 1.1//EN\"\n",
       " \"http://www.w3.org/Graphics/SVG/1.1/DTD/svg11.dtd\">\n",
       "<!-- Generated by graphviz version 2.50.0 (0)\n",
       " -->\n",
       "<!-- Pages: 1 -->\n",
       "<svg width=\"1055pt\" height=\"152pt\"\n",
       " viewBox=\"0.00 0.00 1055.00 152.00\" xmlns=\"http://www.w3.org/2000/svg\" xmlns:xlink=\"http://www.w3.org/1999/xlink\">\n",
       "<g id=\"graph0\" class=\"graph\" transform=\"scale(1 1) rotate(0) translate(4 148)\">\n",
       "<polygon fill=\"white\" stroke=\"transparent\" points=\"-4,4 -4,-148 1051,-148 1051,4 -4,4\"/>\n",
       "<!-- 1575614559248 -->\n",
       "<g id=\"node1\" class=\"node\">\n",
       "<title>1575614559248</title>\n",
       "<polygon fill=\"none\" stroke=\"black\" points=\"753.5,-90 572.5,-90 572.5,-54 753.5,-54 753.5,-90\"/>\n",
       "<text text-anchor=\"middle\" x=\"663\" y=\"-68.3\" font-family=\"Times New Roman,serif\" font-size=\"14.00\">a | value : 22.00 | grad : 44.00</text>\n",
       "</g>\n",
       "<!-- 1575639614608** -->\n",
       "<g id=\"node7\" class=\"node\">\n",
       "<title>1575639614608**</title>\n",
       "<ellipse fill=\"none\" stroke=\"red\" cx=\"809.5\" cy=\"-99\" rx=\"19.5\" ry=\"19.5\"/>\n",
       "<text text-anchor=\"middle\" x=\"809.5\" y=\"-95.3\" font-family=\"Times New Roman,serif\" font-size=\"14.00\">**</text>\n",
       "</g>\n",
       "<!-- 1575614559248&#45;&gt;1575639614608** -->\n",
       "<g id=\"edge4\" class=\"edge\">\n",
       "<title>1575614559248&#45;&gt;1575639614608**</title>\n",
       "<path fill=\"none\" stroke=\"black\" d=\"M753.87,-88.79C763.34,-90.56 772.38,-92.25 780.28,-93.73\"/>\n",
       "<polygon fill=\"black\" stroke=\"black\" points=\"779.82,-97.2 790.29,-95.6 781.1,-90.32 779.82,-97.2\"/>\n",
       "</g>\n",
       "<!-- 1575614559248* -->\n",
       "<g id=\"node2\" class=\"node\">\n",
       "<title>1575614559248*</title>\n",
       "<ellipse fill=\"none\" stroke=\"red\" cx=\"518\" cy=\"-72\" rx=\"18\" ry=\"18\"/>\n",
       "<text text-anchor=\"middle\" x=\"518\" y=\"-68.3\" font-family=\"Times New Roman,serif\" font-size=\"14.00\">*</text>\n",
       "</g>\n",
       "<!-- 1575614559248*&#45;&gt;1575614559248 -->\n",
       "<g id=\"edge1\" class=\"edge\">\n",
       "<title>1575614559248*&#45;&gt;1575614559248</title>\n",
       "<path fill=\"none\" stroke=\"black\" d=\"M536.25,-72C543.44,-72 552.4,-72 562.21,-72\"/>\n",
       "<polygon fill=\"black\" stroke=\"black\" points=\"562.26,-75.5 572.26,-72 562.26,-68.5 562.26,-75.5\"/>\n",
       "</g>\n",
       "<!-- 1575614351376 -->\n",
       "<g id=\"node3\" class=\"node\">\n",
       "<title>1575614351376</title>\n",
       "<polygon fill=\"none\" stroke=\"black\" points=\"175,-90 0,-90 0,-54 175,-54 175,-90\"/>\n",
       "<text text-anchor=\"middle\" x=\"87.5\" y=\"-68.3\" font-family=\"Times New Roman,serif\" font-size=\"14.00\">x | value : 5.00 | grad : 90.00</text>\n",
       "</g>\n",
       "<!-- 1575614284112+ -->\n",
       "<g id=\"node9\" class=\"node\">\n",
       "<title>1575614284112+</title>\n",
       "<ellipse fill=\"none\" stroke=\"red\" cx=\"229\" cy=\"-45\" rx=\"18\" ry=\"18\"/>\n",
       "<text text-anchor=\"middle\" x=\"229\" y=\"-41.3\" font-family=\"Times New Roman,serif\" font-size=\"14.00\">+</text>\n",
       "</g>\n",
       "<!-- 1575614351376&#45;&gt;1575614284112+ -->\n",
       "<g id=\"edge5\" class=\"edge\">\n",
       "<title>1575614351376&#45;&gt;1575614284112+</title>\n",
       "<path fill=\"none\" stroke=\"black\" d=\"M175.26,-55.21C184.45,-53.43 193.22,-51.73 200.88,-50.25\"/>\n",
       "<polygon fill=\"black\" stroke=\"black\" points=\"201.74,-53.65 210.89,-48.31 200.41,-46.78 201.74,-53.65\"/>\n",
       "</g>\n",
       "<!-- 1575613428240 -->\n",
       "<g id=\"node4\" class=\"node\">\n",
       "<title>1575613428240</title>\n",
       "<polygon fill=\"none\" stroke=\"black\" points=\"175,-36 0,-36 0,0 175,0 175,-36\"/>\n",
       "<text text-anchor=\"middle\" x=\"87.5\" y=\"-14.3\" font-family=\"Times New Roman,serif\" font-size=\"14.00\">y | value : 6.00 | grad : 90.00</text>\n",
       "</g>\n",
       "<!-- 1575613428240&#45;&gt;1575614284112+ -->\n",
       "<g id=\"edge7\" class=\"edge\">\n",
       "<title>1575613428240&#45;&gt;1575614284112+</title>\n",
       "<path fill=\"none\" stroke=\"black\" d=\"M175.26,-34.79C184.45,-36.57 193.22,-38.27 200.88,-39.75\"/>\n",
       "<polygon fill=\"black\" stroke=\"black\" points=\"200.41,-43.22 210.89,-41.69 201.74,-36.35 200.41,-43.22\"/>\n",
       "</g>\n",
       "<!-- 1575614197328 -->\n",
       "<g id=\"node5\" class=\"node\">\n",
       "<title>1575614197328</title>\n",
       "<polygon fill=\"none\" stroke=\"black\" points=\"461,-117 286,-117 286,-81 461,-81 461,-117\"/>\n",
       "<text text-anchor=\"middle\" x=\"373.5\" y=\"-95.3\" font-family=\"Times New Roman,serif\" font-size=\"14.00\"> | value : 2.00 | grad : 484.00</text>\n",
       "</g>\n",
       "<!-- 1575614197328&#45;&gt;1575614559248* -->\n",
       "<g id=\"edge6\" class=\"edge\">\n",
       "<title>1575614197328&#45;&gt;1575614559248*</title>\n",
       "<path fill=\"none\" stroke=\"black\" d=\"M461.09,-82.59C471.58,-80.61 481.6,-78.71 490.19,-77.08\"/>\n",
       "<polygon fill=\"black\" stroke=\"black\" points=\"491.06,-80.48 500.23,-75.18 489.76,-73.6 491.06,-80.48\"/>\n",
       "</g>\n",
       "<!-- 1575639614608 -->\n",
       "<g id=\"node6\" class=\"node\">\n",
       "<title>1575639614608</title>\n",
       "<polygon fill=\"none\" stroke=\"black\" points=\"1047,-117 865,-117 865,-81 1047,-81 1047,-117\"/>\n",
       "<text text-anchor=\"middle\" x=\"956\" y=\"-95.3\" font-family=\"Times New Roman,serif\" font-size=\"14.00\">b | value : 484.00 | grad : 1.00</text>\n",
       "</g>\n",
       "<!-- 1575639614608**&#45;&gt;1575639614608 -->\n",
       "<g id=\"edge2\" class=\"edge\">\n",
       "<title>1575639614608**&#45;&gt;1575639614608</title>\n",
       "<path fill=\"none\" stroke=\"black\" d=\"M829.09,-99C836.28,-99 845.08,-99 854.67,-99\"/>\n",
       "<polygon fill=\"black\" stroke=\"black\" points=\"854.91,-102.5 864.91,-99 854.91,-95.5 854.91,-102.5\"/>\n",
       "</g>\n",
       "<!-- 1575614284112 -->\n",
       "<g id=\"node8\" class=\"node\">\n",
       "<title>1575614284112</title>\n",
       "<polygon fill=\"none\" stroke=\"black\" points=\"464,-63 283,-63 283,-27 464,-27 464,-63\"/>\n",
       "<text text-anchor=\"middle\" x=\"373.5\" y=\"-41.3\" font-family=\"Times New Roman,serif\" font-size=\"14.00\">z | value : 11.00 | grad : 89.00</text>\n",
       "</g>\n",
       "<!-- 1575614284112&#45;&gt;1575614559248* -->\n",
       "<g id=\"edge9\" class=\"edge\">\n",
       "<title>1575614284112&#45;&gt;1575614559248*</title>\n",
       "<path fill=\"none\" stroke=\"black\" d=\"M464.34,-62.02C473.56,-63.77 482.33,-65.43 489.98,-66.88\"/>\n",
       "<polygon fill=\"black\" stroke=\"black\" points=\"489.49,-70.35 499.97,-68.77 490.79,-63.47 489.49,-70.35\"/>\n",
       "</g>\n",
       "<!-- 1575614284112+&#45;&gt;1575614284112 -->\n",
       "<g id=\"edge3\" class=\"edge\">\n",
       "<title>1575614284112+&#45;&gt;1575614284112</title>\n",
       "<path fill=\"none\" stroke=\"black\" d=\"M247.19,-45C254.22,-45 262.96,-45 272.52,-45\"/>\n",
       "<polygon fill=\"black\" stroke=\"black\" points=\"272.76,-48.5 282.76,-45 272.76,-41.5 272.76,-48.5\"/>\n",
       "</g>\n",
       "<!-- 1575639614352 -->\n",
       "<g id=\"node10\" class=\"node\">\n",
       "<title>1575639614352</title>\n",
       "<polygon fill=\"none\" stroke=\"black\" points=\"754,-144 572,-144 572,-108 754,-108 754,-144\"/>\n",
       "<text text-anchor=\"middle\" x=\"663\" y=\"-122.3\" font-family=\"Times New Roman,serif\" font-size=\"14.00\"> | value : 2.00 | grad : 1496.06</text>\n",
       "</g>\n",
       "<!-- 1575639614352&#45;&gt;1575639614608** -->\n",
       "<g id=\"edge8\" class=\"edge\">\n",
       "<title>1575639614352&#45;&gt;1575639614608**</title>\n",
       "<path fill=\"none\" stroke=\"black\" d=\"M754.28,-109.13C763.54,-107.4 772.37,-105.75 780.12,-104.3\"/>\n",
       "<polygon fill=\"black\" stroke=\"black\" points=\"780.77,-107.74 789.96,-102.46 779.48,-100.86 780.77,-107.74\"/>\n",
       "</g>\n",
       "</g>\n",
       "</svg>\n"
      ],
      "text/plain": [
       "<graphviz.graphs.Digraph at 0x16edb708410>"
      ]
     },
     "execution_count": 12,
     "metadata": {},
     "output_type": "execute_result"
    }
   ],
   "source": [
    "b=a**2;b.label=\"b\"\n",
    "b.backward()\n",
    "b.digraph()"
   ]
  }
 ],
 "metadata": {
  "kernelspec": {
   "display_name": "Python 3",
   "language": "python",
   "name": "python3"
  },
  "language_info": {
   "codemirror_mode": {
    "name": "ipython",
    "version": 3
   },
   "file_extension": ".py",
   "mimetype": "text/x-python",
   "name": "python",
   "nbconvert_exporter": "python",
   "pygments_lexer": "ipython3",
   "version": "3.11.7"
  }
 },
 "nbformat": 4,
 "nbformat_minor": 2
}
